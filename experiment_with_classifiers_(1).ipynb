{
  "cells": [
    {
      "cell_type": "markdown",
      "metadata": {
        "id": "view-in-github",
        "colab_type": "text"
      },
      "source": [
        "<a href=\"https://colab.research.google.com/github/rushikesh01aiml/AI-ML/blob/main/experiment_with_classifiers_(1).ipynb\" target=\"_parent\"><img src=\"https://colab.research.google.com/assets/colab-badge.svg\" alt=\"Open In Colab\"/></a>"
      ]
    },
    {
      "cell_type": "markdown",
      "metadata": {
        "id": "sMZibSB6UUGh"
      },
      "source": [
        "# Experiment with Various Classifiers and Their Parameters"
      ],
      "id": "sMZibSB6UUGh"
    },
    {
      "cell_type": "code",
      "execution_count": null,
      "metadata": {
        "id": "5BVTSo-SUUGi"
      },
      "outputs": [],
      "source": [
        "# Import necessary libraries\n",
        "from sklearn.datasets import load_iris\n",
        "from sklearn.model_selection import train_test_split\n",
        "from sklearn.metrics import accuracy_score, classification_report\n",
        "\n",
        "# Load dataset\n",
        "iris = load_iris()\n",
        "X = iris.data\n",
        "y = iris.target\n",
        "\n",
        "# Split the data\n",
        "X_train, X_test, y_train, y_test = train_test_split(X, y, test_size=0.3, random_state=42)\n"
      ],
      "id": "5BVTSo-SUUGi"
    },
    {
      "cell_type": "markdown",
      "metadata": {
        "id": "RNUIxO7NUUGj"
      },
      "source": [
        "## 1. Gaussian Naive Bayes"
      ],
      "id": "RNUIxO7NUUGj"
    },
    {
      "cell_type": "code",
      "execution_count": null,
      "metadata": {
        "colab": {
          "base_uri": "https://localhost:8080/"
        },
        "id": "5L3cpja8UUGj",
        "outputId": "f1740cac-6b12-4d29-d901-3f1eb80e8504"
      },
      "outputs": [
        {
          "output_type": "stream",
          "name": "stdout",
          "text": [
            "Gaussian Naive Bayes with var_smoothing=1e-09\n",
            "Accuracy: 0.9778\n",
            "\n",
            "Classification Report:\n",
            "               precision    recall  f1-score   support\n",
            "\n",
            "      setosa       1.00      1.00      1.00        19\n",
            "  versicolor       1.00      0.92      0.96        13\n",
            "   virginica       0.93      1.00      0.96        13\n",
            "\n",
            "    accuracy                           0.98        45\n",
            "   macro avg       0.98      0.97      0.97        45\n",
            "weighted avg       0.98      0.98      0.98        45\n",
            "\n",
            "Gaussian Naive Bayes with var_smoothing=1e-05\n",
            "Accuracy: 0.9778\n",
            "\n",
            "Classification Report:\n",
            "               precision    recall  f1-score   support\n",
            "\n",
            "      setosa       1.00      1.00      1.00        19\n",
            "  versicolor       1.00      0.92      0.96        13\n",
            "   virginica       0.93      1.00      0.96        13\n",
            "\n",
            "    accuracy                           0.98        45\n",
            "   macro avg       0.98      0.97      0.97        45\n",
            "weighted avg       0.98      0.98      0.98        45\n",
            "\n",
            "Gaussian Naive Bayes with var_smoothing=0.01\n",
            "Accuracy: 1.0000\n",
            "\n",
            "Classification Report:\n",
            "               precision    recall  f1-score   support\n",
            "\n",
            "      setosa       1.00      1.00      1.00        19\n",
            "  versicolor       1.00      1.00      1.00        13\n",
            "   virginica       1.00      1.00      1.00        13\n",
            "\n",
            "    accuracy                           1.00        45\n",
            "   macro avg       1.00      1.00      1.00        45\n",
            "weighted avg       1.00      1.00      1.00        45\n",
            "\n"
          ]
        }
      ],
      "source": [
        "# Import GaussianNB\n",
        "from sklearn.naive_bayes import GaussianNB\n",
        "\n",
        "# Function to experiment with Naive Bayes parameters\n",
        "def experiment_with_naive_bayes(var_smoothing=1e-9):\n",
        "    # Initialize GaussianNB with var_smoothing parameter\n",
        "    gnb = GaussianNB(var_smoothing=var_smoothing)\n",
        "    # Train the model\n",
        "    gnb.fit(X_train, y_train)\n",
        "    # Predict on the test set\n",
        "    y_pred = gnb.predict(X_test)\n",
        "    # Evaluate the model\n",
        "    accuracy = accuracy_score(y_test, y_pred)\n",
        "    report = classification_report(y_test, y_pred, target_names=iris.target_names)\n",
        "    print(f\"Gaussian Naive Bayes with var_smoothing={var_smoothing}\")\n",
        "    print(f\"Accuracy: {accuracy:.4f}\")\n",
        "    print(\"\\nClassification Report:\\n\", report)\n",
        "\n",
        "# Experiment with different var_smoothing values\n",
        "experiment_with_naive_bayes(var_smoothing=1e-9)\n",
        "experiment_with_naive_bayes(var_smoothing=1e-5)\n",
        "experiment_with_naive_bayes(var_smoothing=1e-2)\n"
      ],
      "id": "5L3cpja8UUGj"
    },
    {
      "cell_type": "markdown",
      "metadata": {
        "id": "PJekDupZUUGj"
      },
      "source": [
        "## 2. Support Vector Machines (SVM)"
      ],
      "id": "PJekDupZUUGj"
    },
    {
      "cell_type": "code",
      "execution_count": null,
      "metadata": {
        "colab": {
          "base_uri": "https://localhost:8080/"
        },
        "id": "jjXmdOsgUUGk",
        "outputId": "2c8d6d08-d1e4-4411-fbe8-33deda6e25e3"
      },
      "outputs": [
        {
          "output_type": "stream",
          "name": "stdout",
          "text": [
            "SVM with C=1.0, kernel=linear, degree=3, gamma=scale\n",
            "Accuracy: 1.0000\n",
            "\n",
            "Classification Report:\n",
            "               precision    recall  f1-score   support\n",
            "\n",
            "      setosa       1.00      1.00      1.00        19\n",
            "  versicolor       1.00      1.00      1.00        13\n",
            "   virginica       1.00      1.00      1.00        13\n",
            "\n",
            "    accuracy                           1.00        45\n",
            "   macro avg       1.00      1.00      1.00        45\n",
            "weighted avg       1.00      1.00      1.00        45\n",
            "\n",
            "SVM with C=0.5, kernel=poly, degree=3, gamma=auto\n",
            "Accuracy: 1.0000\n",
            "\n",
            "Classification Report:\n",
            "               precision    recall  f1-score   support\n",
            "\n",
            "      setosa       1.00      1.00      1.00        19\n",
            "  versicolor       1.00      1.00      1.00        13\n",
            "   virginica       1.00      1.00      1.00        13\n",
            "\n",
            "    accuracy                           1.00        45\n",
            "   macro avg       1.00      1.00      1.00        45\n",
            "weighted avg       1.00      1.00      1.00        45\n",
            "\n",
            "SVM with C=2.0, kernel=rbf, degree=3, gamma=0.1\n",
            "Accuracy: 1.0000\n",
            "\n",
            "Classification Report:\n",
            "               precision    recall  f1-score   support\n",
            "\n",
            "      setosa       1.00      1.00      1.00        19\n",
            "  versicolor       1.00      1.00      1.00        13\n",
            "   virginica       1.00      1.00      1.00        13\n",
            "\n",
            "    accuracy                           1.00        45\n",
            "   macro avg       1.00      1.00      1.00        45\n",
            "weighted avg       1.00      1.00      1.00        45\n",
            "\n"
          ]
        }
      ],
      "source": [
        "# Import SVM\n",
        "from sklearn.svm import SVC\n",
        "\n",
        "# Function to experiment with SVM parameters\n",
        "def experiment_with_svm(C=1.0, kernel='rbf', degree=3, gamma='scale'):\n",
        "    # Initialize SVC with various parameters\n",
        "    svc = SVC(C=C, kernel=kernel, degree=degree, gamma=gamma, random_state=42)\n",
        "    # Train the model\n",
        "    svc.fit(X_train, y_train)\n",
        "    # Predict on the test set\n",
        "    y_pred = svc.predict(X_test)\n",
        "    # Evaluate the model\n",
        "    accuracy = accuracy_score(y_test, y_pred)\n",
        "    report = classification_report(y_test, y_pred, target_names=iris.target_names)\n",
        "    print(f\"SVM with C={C}, kernel={kernel}, degree={degree}, gamma={gamma}\")\n",
        "    print(f\"Accuracy: {accuracy:.4f}\")\n",
        "    print(\"\\nClassification Report:\\n\", report)\n",
        "\n",
        "# Experiment with different parameter values\n",
        "experiment_with_svm(C=1.0, kernel='linear')\n",
        "experiment_with_svm(C=0.5, kernel='poly', degree=3, gamma='auto')\n",
        "experiment_with_svm(C=2.0, kernel='rbf', gamma=0.1)\n"
      ],
      "id": "jjXmdOsgUUGk"
    },
    {
      "cell_type": "markdown",
      "metadata": {
        "id": "kkwvjhz2UUGk"
      },
      "source": [
        "## 3. Logistic Regression"
      ],
      "id": "kkwvjhz2UUGk"
    },
    {
      "cell_type": "code",
      "execution_count": null,
      "metadata": {
        "colab": {
          "base_uri": "https://localhost:8080/"
        },
        "id": "brc6tzhKUUGk",
        "outputId": "a1892031-e820-4be4-8b97-944df3268582"
      },
      "outputs": [
        {
          "output_type": "stream",
          "name": "stderr",
          "text": [
            "/usr/local/lib/python3.10/dist-packages/sklearn/linear_model/_logistic.py:1247: FutureWarning: 'multi_class' was deprecated in version 1.5 and will be removed in 1.7. From then on, it will always use 'multinomial'. Leave it to its default value to avoid this warning.\n",
            "  warnings.warn(\n",
            "/usr/local/lib/python3.10/dist-packages/sklearn/linear_model/_logistic.py:1247: FutureWarning: 'multi_class' was deprecated in version 1.5 and will be removed in 1.7. From then on, it will always use 'multinomial'. Leave it to its default value to avoid this warning.\n",
            "  warnings.warn(\n"
          ]
        },
        {
          "output_type": "stream",
          "name": "stdout",
          "text": [
            "Logistic Regression with penalty=l2, C=1.0, solver=lbfgs, multi_class=auto\n",
            "Accuracy: 1.0000\n",
            "\n",
            "Classification Report:\n",
            "               precision    recall  f1-score   support\n",
            "\n",
            "      setosa       1.00      1.00      1.00        19\n",
            "  versicolor       1.00      1.00      1.00        13\n",
            "   virginica       1.00      1.00      1.00        13\n",
            "\n",
            "    accuracy                           1.00        45\n",
            "   macro avg       1.00      1.00      1.00        45\n",
            "weighted avg       1.00      1.00      1.00        45\n",
            "\n",
            "Logistic Regression with penalty=l1, C=0.5, solver=saga, multi_class=multinomial\n",
            "Accuracy: 1.0000\n",
            "\n",
            "Classification Report:\n",
            "               precision    recall  f1-score   support\n",
            "\n",
            "      setosa       1.00      1.00      1.00        19\n",
            "  versicolor       1.00      1.00      1.00        13\n",
            "   virginica       1.00      1.00      1.00        13\n",
            "\n",
            "    accuracy                           1.00        45\n",
            "   macro avg       1.00      1.00      1.00        45\n",
            "weighted avg       1.00      1.00      1.00        45\n",
            "\n",
            "Logistic Regression with penalty=None, C=1.0, solver=lbfgs, multi_class=auto\n",
            "Accuracy: 1.0000\n",
            "\n",
            "Classification Report:\n",
            "               precision    recall  f1-score   support\n",
            "\n",
            "      setosa       1.00      1.00      1.00        19\n",
            "  versicolor       1.00      1.00      1.00        13\n",
            "   virginica       1.00      1.00      1.00        13\n",
            "\n",
            "    accuracy                           1.00        45\n",
            "   macro avg       1.00      1.00      1.00        45\n",
            "weighted avg       1.00      1.00      1.00        45\n",
            "\n"
          ]
        },
        {
          "output_type": "stream",
          "name": "stderr",
          "text": [
            "/usr/local/lib/python3.10/dist-packages/sklearn/linear_model/_sag.py:349: ConvergenceWarning: The max_iter was reached which means the coef_ did not converge\n",
            "  warnings.warn(\n",
            "/usr/local/lib/python3.10/dist-packages/sklearn/linear_model/_logistic.py:1247: FutureWarning: 'multi_class' was deprecated in version 1.5 and will be removed in 1.7. From then on, it will always use 'multinomial'. Leave it to its default value to avoid this warning.\n",
            "  warnings.warn(\n"
          ]
        }
      ],
      "source": [
        "# Import LogisticRegression\n",
        "from sklearn.linear_model import LogisticRegression\n",
        "\n",
        "# Function to experiment with Logistic Regression parameters\n",
        "def experiment_with_logistic_regression(penalty='l2', C=1.0, solver='lbfgs', multi_class='auto'):\n",
        "    # Initialize LogisticRegression with different parameters\n",
        "    log_reg = LogisticRegression(penalty=penalty, C=C, solver=solver, multi_class=multi_class, max_iter=1000, random_state=42)\n",
        "    # Train the model\n",
        "    log_reg.fit(X_train, y_train)\n",
        "    # Predict on the test set\n",
        "    y_pred = log_reg.predict(X_test)\n",
        "    # Evaluate the model\n",
        "    accuracy = accuracy_score(y_test, y_pred)\n",
        "    report = classification_report(y_test, y_pred, target_names=iris.target_names)\n",
        "    print(f\"Logistic Regression with penalty={penalty}, C={C}, solver={solver}, multi_class={multi_class}\")\n",
        "    print(f\"Accuracy: {accuracy:.4f}\")\n",
        "    print(\"\\nClassification Report:\\n\", report)\n",
        "\n",
        "# Experiment with different parameter values\n",
        "experiment_with_logistic_regression(penalty='l2', C=1.0, solver='lbfgs')\n",
        "experiment_with_logistic_regression(penalty='l1', C=0.5, solver='saga', multi_class='multinomial')\n",
        "experiment_with_logistic_regression(penalty=None, C=1.0, solver='lbfgs')  # 'none' replaced with None\n"
      ],
      "id": "brc6tzhKUUGk"
    }
  ],
  "metadata": {
    "kernelspec": {
      "display_name": "Python 3",
      "language": "python",
      "name": "python3"
    },
    "language_info": {
      "codemirror_mode": {
        "name": "ipython",
        "version": 3
      },
      "file_extension": ".py",
      "mimetype": "text/x-python",
      "name": "python",
      "nbconvert_exporter": "python",
      "version": "3.9.16"
    },
    "colab": {
      "provenance": [],
      "include_colab_link": true
    }
  },
  "nbformat": 4,
  "nbformat_minor": 5
}